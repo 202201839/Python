{
  "nbformat": 4,
  "nbformat_minor": 0,
  "metadata": {
    "colab": {
      "provenance": [],
      "collapsed_sections": [],
      "authorship_tag": "ABX9TyNBemFXI00RoMMINcIPNUVj",
      "include_colab_link": true
    },
    "kernelspec": {
      "name": "python3",
      "display_name": "Python 3"
    },
    "language_info": {
      "name": "python"
    }
  },
  "cells": [
    {
      "cell_type": "markdown",
      "metadata": {
        "id": "view-in-github",
        "colab_type": "text"
      },
      "source": [
        "<a href=\"https://colab.research.google.com/github/202201839/Python/blob/main/Untitled4.ipynb\" target=\"_parent\"><img src=\"https://colab.research.google.com/assets/colab-badge.svg\" alt=\"Open In Colab\"/></a>"
      ]
    },
    {
      "cell_type": "code",
      "execution_count": null,
      "metadata": {
        "colab": {
          "base_uri": "https://localhost:8080/"
        },
        "id": "fWYZGVO5twur",
        "outputId": "539723f8-2fb7-42f3-d938-83602f518e23"
      },
      "outputs": [
        {
          "output_type": "stream",
          "name": "stdout",
          "text": [
            "자연수 한 개를 입력하세요12\n",
            "계속 입력을 원하시면, 자연수 한 개를 입력하시고, 아니라면 0을 입력하세요.7\n",
            "계속 입력을 원하시면, 자연수 한 개를 입력하시고, 아니라면 0을 입력하세요.3\n",
            "계속 입력을 원하시면, 자연수 한 개를 입력하시고, 아니라면 0을 입력하세요.3\n",
            "계속 입력을 원하시면, 자연수 한 개를 입력하시고, 아니라면 0을 입력하세요.15\n",
            "계속 입력을 원하시면, 자연수 한 개를 입력하시고, 아니라면 0을 입력하세요.0\n",
            "이제 그만하세요 벌써 100개를 입력했어요\n",
            "당신이 입력한 숫자는 큰 것부터 순서대로 말한다면 아래와 같습니다.\n",
            "15 \n",
            "12 \n",
            "7 \n",
            "3 \n",
            "3 \n"
          ]
        }
      ],
      "source": [
        "n = int(input(\"자연수 한 개를 입력하세요\"))\n",
        "li= []\n",
        "count = 1\n",
        "while count <100:\n",
        "    li.append(n)\n",
        "    for i in range(len(li)-1,0,-1):\n",
        "        if li[i-1] < li[i]:\n",
        "            temp = li[i-1]\n",
        "            li[i-1] = li[i]\n",
        "            li[i] = temp\n",
        "    n = int(input(\"계속 입력을 원하시면, 자연수 한 개를 입력하시고, 아니라면 0을 입력하세요.\"))\n",
        "    if n == 0:\n",
        "        print(\"이제 그만하세요 벌써 100개를 입력했어요\")\n",
        "        break\n",
        "    count += 1\n",
        "print(\"당신이 입력한 숫자는 큰 것부터 순서대로 말한다면 아래와 같습니다.\")\n",
        "for i in li:\n",
        "    print(i, ' ', sep='')"
      ]
    },
    {
      "cell_type": "code",
      "source": [
        "n = int(input())\n",
        "if n>=31:\n",
        "    print(\"너무 많다\")\n",
        "else:\n",
        "    i = 1\n",
        "    while i <= n:\n",
        "        j = 1\n",
        "        while j < i:\n",
        "            print('*', end='')\n",
        "            j+=1\n",
        "        print(i)\n",
        "        i+=1"
      ],
      "metadata": {
        "colab": {
          "base_uri": "https://localhost:8080/"
        },
        "id": "-r4zFIbYDCeM",
        "outputId": "dbe86e27-9a45-421c-ddbe-da8f053da75a"
      },
      "execution_count": null,
      "outputs": [
        {
          "output_type": "stream",
          "name": "stdout",
          "text": [
            "20\n",
            "1\n",
            "*2\n",
            "**3\n",
            "***4\n",
            "****5\n",
            "*****6\n",
            "******7\n",
            "*******8\n",
            "********9\n",
            "*********10\n",
            "**********11\n",
            "***********12\n",
            "************13\n",
            "*************14\n",
            "**************15\n",
            "***************16\n",
            "****************17\n",
            "*****************18\n",
            "******************19\n",
            "*******************20\n"
          ]
        }
      ]
    }
  ]
}