{
  "nbformat": 4,
  "nbformat_minor": 0,
  "metadata": {
    "colab": {
      "provenance": [],
      "collapsed_sections": [],
      "authorship_tag": "ABX9TyOcPiQf63GE7dWOa/wlVqi1",
      "include_colab_link": true
    },
    "kernelspec": {
      "name": "python3",
      "display_name": "Python 3"
    },
    "language_info": {
      "name": "python"
    }
  },
  "cells": [
    {
      "cell_type": "markdown",
      "metadata": {
        "id": "view-in-github",
        "colab_type": "text"
      },
      "source": [
        "<a href=\"https://colab.research.google.com/github/202201839/Python/blob/main/10_9_python.ipynb\" target=\"_parent\"><img src=\"https://colab.research.google.com/assets/colab-badge.svg\" alt=\"Open In Colab\"/></a>"
      ]
    },
    {
      "cell_type": "code",
      "source": [
        "x = int(input('x='))\n",
        "y = int(input('y='))\n",
        "if x==y :\n",
        "  print('A.x와 y는 같은 숫자이다.')\n",
        "else:\n",
        "  if x%y == 0 :\n",
        "    print('C.y는 x의 약수이지만, x가 아니다.')\n",
        "  if y%x == 0 :\n",
        "    print('B.x는 y의 약수이지만, y가 아니다.')\n",
        "  \n",
        "def f(x, y):\n",
        "  if y%x == 0 :\n",
        "    return 1\n",
        "  else: \n",
        "    return 0\n",
        "\n",
        "def abcd (x, y) :\n",
        "  if f(x,y) == 1 and f(y,x) == 1 :\n",
        "    return print('A. x와 y는 같은 숫자이다')\n",
        "  elif f(x,y) == 1 and f(y,x) == 0 :\n",
        "    return print('B. x는 y의 약수이지만, y가 아니다')\n",
        "  elif f(x,y) == 0 and f(y,x) == 1 :\n",
        "    return print('C. y는 x의 약수이지만, x가 아니다')\n",
        "  elif f(x,y) == 0 and f(y,x) == 0 :\n",
        "    return print('D. x와 y는 서로의 약수가 아니다')"
      ],
      "metadata": {
        "colab": {
          "base_uri": "https://localhost:8080/"
        },
        "id": "75WRDWtuTUxM",
        "outputId": "ef81c6ab-c730-41a3-977e-d54d2212331f"
      },
      "execution_count": null,
      "outputs": [
        {
          "output_type": "stream",
          "name": "stdout",
          "text": [
            "x=2\n",
            "y=2\n",
            "A.x와 y는 같은 숫자이다.\n"
          ]
        }
      ]
    },
    {
      "cell_type": "code",
      "source": [
        "abcd(24,13)"
      ],
      "metadata": {
        "colab": {
          "base_uri": "https://localhost:8080/"
        },
        "id": "YkRjQ4D1prp2",
        "outputId": "9d255659-3b68-4f54-9e4a-b009751362f7"
      },
      "execution_count": null,
      "outputs": [
        {
          "output_type": "stream",
          "name": "stdout",
          "text": [
            "D. x와 y는 서로의 약수가 아니다\n"
          ]
        }
      ]
    }
  ]
}